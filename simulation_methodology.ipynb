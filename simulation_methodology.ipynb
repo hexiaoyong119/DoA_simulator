{
 "cells": [
  {
   "cell_type": "markdown",
   "metadata": {},
   "source": [
    "**Simulation methodology:**\n",
    "The simulation assumes Additive White Gaussian Noise (AWGN) channel with multipath propagation. Assuming $M$ antenna channels, the simulated multichannel signal is produced according to the following formula:\n",
    "\n",
    "$$x(t)_m = \\sum_{k=0}^{K} \\alpha_k s(t) e^{j\\Delta \\phi(\\theta_k)_m} +n(t)_m,$$\n",
    "\n",
    "where:\n",
    "- $x(t)_m$ is the time domain signal of the m-th receiver channel, $m=0 \\dots M-1$\n",
    "- $s(t)$ is the time domain signal of the signal of interest\n",
    "- $n(t)_m$is the time domain signal of th uncorellated receiver noise of the m-th receiver channel\n",
    "- $K$ is the number of considered signal paths\n",
    "- $\\alpha_k \\in \\mathbb{C}$ is the complex scaling factor of the $k$-th signal component and $k=0$ represents the main, direct signal component.\n",
    "$|\\alpha_0|=1$, $|\\alpha_k| \\leq|=1, k=1..K$. $n(t)_m$ is the uncorrelated, additive noise component of the $m$-th receiver channel.\n",
    "- $\\Delta \\phi(\\theta_k)_m$ is the phase delay of the $m$-th channel considering that the $k$-th multipath component is arriving from the $\\theta_k$ direction. \n",
    "\n",
    "In case of Uniform Linear Arrays: \n",
    "$$\\Delta \\phi(\\theta_k)_m = \\beta d cos(\\theta_k) m,$$\n",
    "where $\\beta= \\lambda/2\\pi$ is the wavenumber and $d$ is the inter element spacing.  \n",
    "\n",
    "In case of Uniform Circular Arrays: \n",
    "$$\\Delta \\phi(\\theta_k)_m = \\beta r cos\\left(\\theta_k - m \\frac{360}{M}\\right),$$\n",
    "where $r$ is the radius of the circular antenna arangement.\n",
    "\n",
    "\n",
    "The signal of interest is a wideband random signal drawn from normal distribution.$s(t) \\sim N(0,1)$. The power level of the noise in each receiver channel is controlled by the user. $n(t) \\sim N(0, \\xi)$. \n",
    "$$ SNR_m = \\frac{1}{|\\xi|^2}$$\n",
    "\n",
    "**Implementation:**\n",
    "\n",
    "The simulator implements the above expressions in a more complex, matrix format:\n",
    "\n",
    "$$x(t) = s(t) \\bf{A} \\bf{\\alpha},$$\n",
    "where $\\bf{A} \\in \\mathbb{C}^{M \\times K}$ is the array response matrix and $\\bf{\\alpha} \\in \\mathbb{C}^{K \\times 1}$ is the scaling vector of the propagation paths. The $k$-th column of the $\\bf{A}$ matrix in case of ULA antenna configuraiton has the following format:\n",
    "$$\\bf{a}_k=\\left[1~e^{j\\beta d cos(\\theta_k)1} \\dots e^{j\\beta d cos(\\theta_k)(M-1)} \\right]^T$$\n",
    "While in case of UCA antenna configuration it can be written as follows:\n",
    "$$\\bf{a}_k=\\left[e^{j\\beta r cos(\\theta_k)}~e^{j\\beta r cos(\\theta_k - 1 \\frac{360}{M})} \\dots e^{j\\beta d cos(\\theta_k -m \\frac{360}{M})} \\right]^T$$\n",
    "\n",
    "The radius for unambigious DoA measurements in case of UCA antenna aligment is calculated with the following equation:\n",
    "$$r_{max} = \\frac{\\lambda}{2\\sqrt{(2(1-cos(360/M)))}}$$\n",
    "\n"
   ]
  },
  {
   "cell_type": "code",
   "execution_count": null,
   "metadata": {},
   "outputs": [],
   "source": []
  }
 ],
 "metadata": {
  "kernelspec": {
   "display_name": "Python 3",
   "language": "python",
   "name": "python3"
  },
  "language_info": {
   "codemirror_mode": {
    "name": "ipython",
    "version": 3
   },
   "file_extension": ".py",
   "mimetype": "text/x-python",
   "name": "python",
   "nbconvert_exporter": "python",
   "pygments_lexer": "ipython3",
   "version": "3.7.6"
  }
 },
 "nbformat": 4,
 "nbformat_minor": 4
}
